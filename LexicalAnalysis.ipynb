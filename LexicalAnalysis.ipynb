{
 "cells": [
  {
   "cell_type": "code",
   "execution_count": 1,
   "metadata": {},
   "outputs": [],
   "source": [
    "import pandas as pd\n",
    "import seaborn as sns\n",
    "import matplotlib.pyplot as plt\n",
    "import textstat"
   ]
  },
  {
   "cell_type": "code",
   "execution_count": 2,
   "metadata": {},
   "outputs": [],
   "source": [
    "# Program to read the entire file (absolute path) using read() function\n",
    "caseNo='Case1'\n",
    "file_path = 'Research Data/'+caseNo+'.txt'\n"
   ]
  },
  {
   "cell_type": "code",
   "execution_count": 3,
   "metadata": {},
   "outputs": [],
   "source": [
    "### Parse to a list of Dicts\n",
    "def parse_prompt_response(file_path):\n",
    "    with open(file_path, 'r') as file:\n",
    "        content = file.read()\n",
    "\n",
    "    pairs = content.split('---END_OF_PAIR---')\n",
    "    data = []\n",
    "    \n",
    "    for pair in pairs:\n",
    "        if '---PROMPT_START---' in pair and '---RESPONSE_START---' in pair:\n",
    "            prompt, response = pair.split('---RESPONSE_START---', 1)\n",
    "            prompt = prompt.split('---PROMPT_START---', 1)[-1].strip()\n",
    "            response = response.strip()\n",
    "            data.append({'prompt': prompt, 'response': response})\n",
    "    \n",
    "    return data\n",
    "\n",
    "pairs = parse_prompt_response(file_path)\n",
    "\n"
   ]
  },
  {
   "cell_type": "code",
   "execution_count": 4,
   "metadata": {},
   "outputs": [
    {
     "data": {
      "text/html": [
       "<div>\n",
       "<style scoped>\n",
       "    .dataframe tbody tr th:only-of-type {\n",
       "        vertical-align: middle;\n",
       "    }\n",
       "\n",
       "    .dataframe tbody tr th {\n",
       "        vertical-align: top;\n",
       "    }\n",
       "\n",
       "    .dataframe thead th {\n",
       "        text-align: right;\n",
       "    }\n",
       "</style>\n",
       "<table border=\"1\" class=\"dataframe\">\n",
       "  <thead>\n",
       "    <tr style=\"text-align: right;\">\n",
       "      <th></th>\n",
       "      <th>prompt</th>\n",
       "      <th>response</th>\n",
       "    </tr>\n",
       "  </thead>\n",
       "  <tbody>\n",
       "    <tr>\n",
       "      <th>0</th>\n",
       "      <td>I am planning to visit to Rotorua new Zealand</td>\n",
       "      <td>Rotorua is a fantastic destination with a lot ...</td>\n",
       "    </tr>\n",
       "    <tr>\n",
       "      <th>1</th>\n",
       "      <td>What are the main attractions in Rotorua, and ...</td>\n",
       "      <td>Rotorua has several standout attractions, each...</td>\n",
       "    </tr>\n",
       "    <tr>\n",
       "      <th>2</th>\n",
       "      <td>What are the best natural places to visit in R...</td>\n",
       "      <td>Rotorua is brimming with natural wonders beyon...</td>\n",
       "    </tr>\n",
       "    <tr>\n",
       "      <th>3</th>\n",
       "      <td>What are some of the top cultural experiences ...</td>\n",
       "      <td>Rotorua is rich in Maori culture and heritage,...</td>\n",
       "    </tr>\n",
       "    <tr>\n",
       "      <th>4</th>\n",
       "      <td>What outdoor adventure activities are popular ...</td>\n",
       "      <td>Rotorua is a fantastic destination for outdoor...</td>\n",
       "    </tr>\n",
       "  </tbody>\n",
       "</table>\n",
       "</div>"
      ],
      "text/plain": [
       "                                              prompt  \\\n",
       "0      I am planning to visit to Rotorua new Zealand   \n",
       "1  What are the main attractions in Rotorua, and ...   \n",
       "2  What are the best natural places to visit in R...   \n",
       "3  What are some of the top cultural experiences ...   \n",
       "4  What outdoor adventure activities are popular ...   \n",
       "\n",
       "                                            response  \n",
       "0  Rotorua is a fantastic destination with a lot ...  \n",
       "1  Rotorua has several standout attractions, each...  \n",
       "2  Rotorua is brimming with natural wonders beyon...  \n",
       "3  Rotorua is rich in Maori culture and heritage,...  \n",
       "4  Rotorua is a fantastic destination for outdoor...  "
      ]
     },
     "execution_count": 4,
     "metadata": {},
     "output_type": "execute_result"
    }
   ],
   "source": [
    "df=pd.DataFrame(pairs)\n",
    "df.head()"
   ]
  },
  {
   "cell_type": "code",
   "execution_count": 5,
   "metadata": {},
   "outputs": [
    {
     "name": "stdout",
     "output_type": "stream",
     "text": [
      "0         I am planning to visit to Rotorua new Zealand\n",
      "1     What are the main attractions in Rotorua, and ...\n",
      "2     What are the best natural places to visit in R...\n",
      "3     What are some of the top cultural experiences ...\n",
      "4     What outdoor adventure activities are popular ...\n",
      "5     My budget is 2000NZD for 2 adult and 3 kids wh...\n",
      "6     What accommodations are available in Rotorua, ...\n",
      "7                           I am planning to you by car\n",
      "8     What should visitors know about the local Maor...\n",
      "9     Are there any unique shopping experiences or l...\n",
      "10    What safety tips or precautions should visitor...\n",
      "Name: prompt, dtype: object\n"
     ]
    }
   ],
   "source": [
    "print(df['prompt'])"
   ]
  },
  {
   "cell_type": "code",
   "execution_count": 6,
   "metadata": {},
   "outputs": [
    {
     "data": {
      "text/plain": [
       "(11, 2)"
      ]
     },
     "execution_count": 6,
     "metadata": {},
     "output_type": "execute_result"
    }
   ],
   "source": [
    "df.shape"
   ]
  },
  {
   "cell_type": "code",
   "execution_count": 7,
   "metadata": {},
   "outputs": [
    {
     "name": "stdout",
     "output_type": "stream",
     "text": [
      "\"I am planning to visit to Rotorua new Zealand\"\n",
      "\"What are the main attractions in Rotorua, and what makes each one unique?\"\n",
      "\"What are the best natural places to visit in Rotorua?\"\n",
      "\"What are some of the top cultural experiences or Maori heritage sites in Rotorua?\"\n",
      "\"What outdoor adventure activities are popular in Rotorua?\"\n",
      "\"My budget is 2000NZD for 2 adult and 3 kids what are the options for night stay?\"\n",
      "\"What accommodations are available in Rotorua, and what are the options for different budgets?\"\n",
      "\"I am planning to you by car\"\n",
      "\"What should visitors know about the local Maori culture and traditions before visiting Rotorua?\"\n",
      "\"Are there any unique shopping experiences or local crafts that visitors should explore in Rotorua?\"\n",
      "\"What safety tips or precautions should visitors take while exploring Rotorua’s\"\n"
     ]
    }
   ],
   "source": [
    "#all_prompts = \"\\n\".join(df['prompt'].tolist())\n",
    "all_prompts = \"\\n\".join(f'\"{prompt}\"' for prompt in df['prompt'])\n",
    "\n",
    "print(all_prompts)"
   ]
  },
  {
   "cell_type": "markdown",
   "metadata": {},
   "source": [
    "# lexical diversity python"
   ]
  },
  {
   "cell_type": "code",
   "execution_count": 8,
   "metadata": {},
   "outputs": [
    {
     "name": "stdout",
     "output_type": "stream",
     "text": [
      "Requirement already satisfied: lexicalrichness in /Users/lahiruwijayapala/opt/anaconda3/envs/test2/lib/python3.11/site-packages (0.5.1)\n",
      "Requirement already satisfied: scipy>=1.0.0 in /Users/lahiruwijayapala/opt/anaconda3/envs/test2/lib/python3.11/site-packages (from lexicalrichness) (1.11.3)\n",
      "Requirement already satisfied: textblob>=0.15.3 in /Users/lahiruwijayapala/opt/anaconda3/envs/test2/lib/python3.11/site-packages (from lexicalrichness) (0.18.0.post0)\n",
      "Requirement already satisfied: pandas in /Users/lahiruwijayapala/opt/anaconda3/envs/test2/lib/python3.11/site-packages (from lexicalrichness) (2.2.1)\n",
      "Requirement already satisfied: matplotlib in /Users/lahiruwijayapala/opt/anaconda3/envs/test2/lib/python3.11/site-packages (from lexicalrichness) (3.8.4)\n",
      "Requirement already satisfied: numpy<1.28.0,>=1.21.6 in /Users/lahiruwijayapala/opt/anaconda3/envs/test2/lib/python3.11/site-packages (from scipy>=1.0.0->lexicalrichness) (1.25.2)\n",
      "Requirement already satisfied: nltk>=3.8 in /Users/lahiruwijayapala/opt/anaconda3/envs/test2/lib/python3.11/site-packages (from textblob>=0.15.3->lexicalrichness) (3.9.1)\n",
      "Requirement already satisfied: contourpy>=1.0.1 in /Users/lahiruwijayapala/opt/anaconda3/envs/test2/lib/python3.11/site-packages (from matplotlib->lexicalrichness) (1.2.0)\n",
      "Requirement already satisfied: cycler>=0.10 in /Users/lahiruwijayapala/opt/anaconda3/envs/test2/lib/python3.11/site-packages (from matplotlib->lexicalrichness) (0.11.0)\n",
      "Requirement already satisfied: fonttools>=4.22.0 in /Users/lahiruwijayapala/opt/anaconda3/envs/test2/lib/python3.11/site-packages (from matplotlib->lexicalrichness) (4.51.0)\n",
      "Requirement already satisfied: kiwisolver>=1.3.1 in /Users/lahiruwijayapala/opt/anaconda3/envs/test2/lib/python3.11/site-packages (from matplotlib->lexicalrichness) (1.4.5)\n",
      "Requirement already satisfied: packaging>=20.0 in /Users/lahiruwijayapala/opt/anaconda3/envs/test2/lib/python3.11/site-packages (from matplotlib->lexicalrichness) (24.0)\n",
      "Requirement already satisfied: pillow>=8 in /Users/lahiruwijayapala/opt/anaconda3/envs/test2/lib/python3.11/site-packages (from matplotlib->lexicalrichness) (10.3.0)\n",
      "Requirement already satisfied: pyparsing>=2.3.1 in /Users/lahiruwijayapala/opt/anaconda3/envs/test2/lib/python3.11/site-packages (from matplotlib->lexicalrichness) (3.1.2)\n",
      "Requirement already satisfied: python-dateutil>=2.7 in /Users/lahiruwijayapala/opt/anaconda3/envs/test2/lib/python3.11/site-packages (from matplotlib->lexicalrichness) (2.9.0)\n",
      "Requirement already satisfied: pytz>=2020.1 in /Users/lahiruwijayapala/opt/anaconda3/envs/test2/lib/python3.11/site-packages (from pandas->lexicalrichness) (2023.3.post1)\n",
      "Requirement already satisfied: tzdata>=2022.7 in /Users/lahiruwijayapala/opt/anaconda3/envs/test2/lib/python3.11/site-packages (from pandas->lexicalrichness) (2023.3)\n",
      "Requirement already satisfied: click in /Users/lahiruwijayapala/opt/anaconda3/envs/test2/lib/python3.11/site-packages (from nltk>=3.8->textblob>=0.15.3->lexicalrichness) (8.1.7)\n",
      "Requirement already satisfied: joblib in /Users/lahiruwijayapala/opt/anaconda3/envs/test2/lib/python3.11/site-packages (from nltk>=3.8->textblob>=0.15.3->lexicalrichness) (1.3.2)\n",
      "Requirement already satisfied: regex>=2021.8.3 in /Users/lahiruwijayapala/opt/anaconda3/envs/test2/lib/python3.11/site-packages (from nltk>=3.8->textblob>=0.15.3->lexicalrichness) (2024.7.24)\n",
      "Requirement already satisfied: tqdm in /Users/lahiruwijayapala/opt/anaconda3/envs/test2/lib/python3.11/site-packages (from nltk>=3.8->textblob>=0.15.3->lexicalrichness) (4.66.1)\n",
      "Requirement already satisfied: six>=1.5 in /Users/lahiruwijayapala/opt/anaconda3/envs/test2/lib/python3.11/site-packages (from python-dateutil>=2.7->matplotlib->lexicalrichness) (1.16.0)\n",
      "Note: you may need to restart the kernel to use updated packages.\n"
     ]
    }
   ],
   "source": [
    "%pip install lexicalrichness"
   ]
  },
  {
   "cell_type": "markdown",
   "metadata": {},
   "source": [
    "### MLTD\n",
    "#### Return Measure of Textual Lexical Diversity (MTLD)."
   ]
  },
  {
   "cell_type": "code",
   "execution_count": 9,
   "metadata": {},
   "outputs": [
    {
     "data": {
      "text/plain": [
       "52.430403658779085"
      ]
     },
     "execution_count": 9,
     "metadata": {},
     "output_type": "execute_result"
    }
   ],
   "source": [
    "from lexicalrichness import LexicalRichness\n",
    "\n",
    "def mtld(text):\n",
    "    lex = LexicalRichness(text)\n",
    "    return lex.mtld()\n",
    "\n",
    "mtld(all_prompts)"
   ]
  },
  {
   "cell_type": "code",
   "execution_count": 10,
   "metadata": {},
   "outputs": [
    {
     "data": {
      "text/html": [
       "<div>\n",
       "<style scoped>\n",
       "    .dataframe tbody tr th:only-of-type {\n",
       "        vertical-align: middle;\n",
       "    }\n",
       "\n",
       "    .dataframe tbody tr th {\n",
       "        vertical-align: top;\n",
       "    }\n",
       "\n",
       "    .dataframe thead th {\n",
       "        text-align: right;\n",
       "    }\n",
       "</style>\n",
       "<table border=\"1\" class=\"dataframe\">\n",
       "  <thead>\n",
       "    <tr style=\"text-align: right;\">\n",
       "      <th></th>\n",
       "      <th>prompt</th>\n",
       "      <th>response</th>\n",
       "      <th>mtld</th>\n",
       "    </tr>\n",
       "  </thead>\n",
       "  <tbody>\n",
       "    <tr>\n",
       "      <th>0</th>\n",
       "      <td>I am planning to visit to Rotorua new Zealand</td>\n",
       "      <td>Rotorua is a fantastic destination with a lot ...</td>\n",
       "      <td>22.68</td>\n",
       "    </tr>\n",
       "    <tr>\n",
       "      <th>1</th>\n",
       "      <td>What are the main attractions in Rotorua, and ...</td>\n",
       "      <td>Rotorua has several standout attractions, each...</td>\n",
       "      <td>47.32</td>\n",
       "    </tr>\n",
       "    <tr>\n",
       "      <th>2</th>\n",
       "      <td>What are the best natural places to visit in R...</td>\n",
       "      <td>Rotorua is brimming with natural wonders beyon...</td>\n",
       "      <td>10.00</td>\n",
       "    </tr>\n",
       "    <tr>\n",
       "      <th>3</th>\n",
       "      <td>What are some of the top cultural experiences ...</td>\n",
       "      <td>Rotorua is rich in Maori culture and heritage,...</td>\n",
       "      <td>14.00</td>\n",
       "    </tr>\n",
       "    <tr>\n",
       "      <th>4</th>\n",
       "      <td>What outdoor adventure activities are popular ...</td>\n",
       "      <td>Rotorua is a fantastic destination for outdoor...</td>\n",
       "      <td>8.00</td>\n",
       "    </tr>\n",
       "  </tbody>\n",
       "</table>\n",
       "</div>"
      ],
      "text/plain": [
       "                                              prompt  \\\n",
       "0      I am planning to visit to Rotorua new Zealand   \n",
       "1  What are the main attractions in Rotorua, and ...   \n",
       "2  What are the best natural places to visit in R...   \n",
       "3  What are some of the top cultural experiences ...   \n",
       "4  What outdoor adventure activities are popular ...   \n",
       "\n",
       "                                            response   mtld  \n",
       "0  Rotorua is a fantastic destination with a lot ...  22.68  \n",
       "1  Rotorua has several standout attractions, each...  47.32  \n",
       "2  Rotorua is brimming with natural wonders beyon...  10.00  \n",
       "3  Rotorua is rich in Maori culture and heritage,...  14.00  \n",
       "4  Rotorua is a fantastic destination for outdoor...   8.00  "
      ]
     },
     "execution_count": 10,
     "metadata": {},
     "output_type": "execute_result"
    }
   ],
   "source": [
    "df['mtld'] = df['prompt'].apply(mtld)\n",
    "df.head()"
   ]
  },
  {
   "cell_type": "markdown",
   "metadata": {},
   "source": [
    "### moving average type-token ratio (MATTR)"
   ]
  },
  {
   "cell_type": "code",
   "execution_count": 11,
   "metadata": {},
   "outputs": [
    {
     "data": {
      "text/plain": [
       "0.8400000000000001"
      ]
     },
     "execution_count": 11,
     "metadata": {},
     "output_type": "execute_result"
    }
   ],
   "source": [
    "\n",
    "from lexicalrichness import LexicalRichness\n",
    "\n",
    "def mattr(text):\n",
    "    lex = LexicalRichness(text)\n",
    "    return lex.mattr(window_size=25)\n",
    "\n",
    "mattr(all_prompts)"
   ]
  },
  {
   "cell_type": "markdown",
   "metadata": {},
   "source": [
    "# word count."
   ]
  },
  {
   "cell_type": "code",
   "execution_count": 12,
   "metadata": {},
   "outputs": [
    {
     "data": {
      "text/plain": [
       "130"
      ]
     },
     "execution_count": 12,
     "metadata": {},
     "output_type": "execute_result"
    }
   ],
   "source": [
    "\n",
    "def word_count(text):\n",
    "    lex = LexicalRichness(text)\n",
    "    return lex.words\n",
    "\n",
    "word_count(all_prompts)\n"
   ]
  },
  {
   "cell_type": "markdown",
   "metadata": {},
   "source": [
    "### unique word count."
   ]
  },
  {
   "cell_type": "code",
   "execution_count": 13,
   "metadata": {},
   "outputs": [
    {
     "data": {
      "text/plain": [
       "74"
      ]
     },
     "execution_count": 13,
     "metadata": {},
     "output_type": "execute_result"
    }
   ],
   "source": [
    "\n",
    "def unique_word_count(text):\n",
    "    lex = LexicalRichness(text)\n",
    "    return lex.terms\n",
    "\n",
    "unique_word_count(all_prompts)\n"
   ]
  },
  {
   "cell_type": "code",
   "execution_count": 14,
   "metadata": {},
   "outputs": [
    {
     "data": {
      "text/plain": [
       "0.7481436985807682"
      ]
     },
     "execution_count": 14,
     "metadata": {},
     "output_type": "execute_result"
    }
   ],
   "source": [
    "def hd_d(text):\n",
    "    lex = LexicalRichness(text)\n",
    "    return lex.hdd()\n",
    "\n",
    "hd_d(all_prompts)"
   ]
  },
  {
   "cell_type": "markdown",
   "metadata": {},
   "source": [
    "# Create DF"
   ]
  },
  {
   "cell_type": "code",
   "execution_count": null,
   "metadata": {},
   "outputs": [
    {
     "data": {
      "text/html": [
       "<div>\n",
       "<style scoped>\n",
       "    .dataframe tbody tr th:only-of-type {\n",
       "        vertical-align: middle;\n",
       "    }\n",
       "\n",
       "    .dataframe tbody tr th {\n",
       "        vertical-align: top;\n",
       "    }\n",
       "\n",
       "    .dataframe thead th {\n",
       "        text-align: right;\n",
       "    }\n",
       "</style>\n",
       "<table border=\"1\" class=\"dataframe\">\n",
       "  <thead>\n",
       "    <tr style=\"text-align: right;\">\n",
       "      <th></th>\n",
       "      <th>Case No</th>\n",
       "      <th>Word Count</th>\n",
       "      <th>Unique Word Count</th>\n",
       "      <th>MTLD</th>\n",
       "      <th>MATTR</th>\n",
       "      <th>HD-D</th>\n",
       "    </tr>\n",
       "  </thead>\n",
       "  <tbody>\n",
       "    <tr>\n",
       "      <th>0</th>\n",
       "      <td>1</td>\n",
       "      <td>130</td>\n",
       "      <td>74</td>\n",
       "      <td>52.430404</td>\n",
       "      <td>0.840000</td>\n",
       "      <td>0.748144</td>\n",
       "    </tr>\n",
       "    <tr>\n",
       "      <th>1</th>\n",
       "      <td>3</td>\n",
       "      <td>108</td>\n",
       "      <td>65</td>\n",
       "      <td>35.334320</td>\n",
       "      <td>0.811905</td>\n",
       "      <td>0.764934</td>\n",
       "    </tr>\n",
       "    <tr>\n",
       "      <th>2</th>\n",
       "      <td>6</td>\n",
       "      <td>270</td>\n",
       "      <td>135</td>\n",
       "      <td>63.787600</td>\n",
       "      <td>0.886341</td>\n",
       "      <td>0.805660</td>\n",
       "    </tr>\n",
       "    <tr>\n",
       "      <th>3</th>\n",
       "      <td>7</td>\n",
       "      <td>117</td>\n",
       "      <td>83</td>\n",
       "      <td>95.377016</td>\n",
       "      <td>0.901935</td>\n",
       "      <td>0.859849</td>\n",
       "    </tr>\n",
       "    <tr>\n",
       "      <th>4</th>\n",
       "      <td>8</td>\n",
       "      <td>74</td>\n",
       "      <td>52</td>\n",
       "      <td>61.500000</td>\n",
       "      <td>0.874400</td>\n",
       "      <td>0.789769</td>\n",
       "    </tr>\n",
       "  </tbody>\n",
       "</table>\n",
       "</div>"
      ],
      "text/plain": [
       "   Case No  Word Count  Unique Word Count       MTLD     MATTR      HD-D\n",
       "0        1         130                 74  52.430404  0.840000  0.748144\n",
       "1        3         108                 65  35.334320  0.811905  0.764934\n",
       "2        6         270                135  63.787600  0.886341  0.805660\n",
       "3        7         117                 83  95.377016  0.901935  0.859849\n",
       "4        8          74                 52  61.500000  0.874400  0.789769"
      ]
     },
     "execution_count": 15,
     "metadata": {},
     "output_type": "execute_result"
    }
   ],
   "source": [
    "case_numbers=[1,3,6,7,8,9,10,11,12,13,14,15,16,17,18,19,20,21,22,23,24,25,26,31,32,34,36,38,40,41,42]\n",
    "\n",
    "scores = []\n",
    "\n",
    "for i in case_numbers:\n",
    "    file_path = 'Research Data/Case'+str(i)+'.txt'\n",
    "    \n",
    "    pairs = parse_prompt_response(file_path)\n",
    "    df=pd.DataFrame(pairs)\n",
    "    all_prompts = \"\\n\".join(f'\"{prompt}\"' for prompt in df['prompt'])\n",
    "    \n",
    "    scores.append({'Case No':i,'Word Count':word_count(all_prompts),'Unique Word Count':unique_word_count(all_prompts),'MTLD':mtld(all_prompts),'MATTR':mattr(all_prompts),'HD-D':hd_d(all_prompts)})\n",
    "    \n",
    "    \n",
    "df = pd.DataFrame(scores)\n",
    "df.head()"
   ]
  },
  {
   "cell_type": "code",
   "execution_count": 16,
   "metadata": {},
   "outputs": [
    {
     "data": {
      "text/html": [
       "<div>\n",
       "<style scoped>\n",
       "    .dataframe tbody tr th:only-of-type {\n",
       "        vertical-align: middle;\n",
       "    }\n",
       "\n",
       "    .dataframe tbody tr th {\n",
       "        vertical-align: top;\n",
       "    }\n",
       "\n",
       "    .dataframe thead th {\n",
       "        text-align: right;\n",
       "    }\n",
       "</style>\n",
       "<table border=\"1\" class=\"dataframe\">\n",
       "  <thead>\n",
       "    <tr style=\"text-align: right;\">\n",
       "      <th></th>\n",
       "      <th>Case No</th>\n",
       "      <th>Word Count</th>\n",
       "      <th>Unique Word Count</th>\n",
       "      <th>MTLD</th>\n",
       "      <th>MATTR</th>\n",
       "      <th>HD-D</th>\n",
       "      <th>Participant</th>\n",
       "      <th>ParticipantNo</th>\n",
       "    </tr>\n",
       "  </thead>\n",
       "  <tbody>\n",
       "    <tr>\n",
       "      <th>0</th>\n",
       "      <td>1</td>\n",
       "      <td>130</td>\n",
       "      <td>74</td>\n",
       "      <td>52.430404</td>\n",
       "      <td>0.840000</td>\n",
       "      <td>0.748144</td>\n",
       "      <td>P1</td>\n",
       "      <td>1</td>\n",
       "    </tr>\n",
       "    <tr>\n",
       "      <th>1</th>\n",
       "      <td>3</td>\n",
       "      <td>108</td>\n",
       "      <td>65</td>\n",
       "      <td>35.334320</td>\n",
       "      <td>0.811905</td>\n",
       "      <td>0.764934</td>\n",
       "      <td>P2</td>\n",
       "      <td>2</td>\n",
       "    </tr>\n",
       "    <tr>\n",
       "      <th>2</th>\n",
       "      <td>6</td>\n",
       "      <td>270</td>\n",
       "      <td>135</td>\n",
       "      <td>63.787600</td>\n",
       "      <td>0.886341</td>\n",
       "      <td>0.805660</td>\n",
       "      <td>P3</td>\n",
       "      <td>3</td>\n",
       "    </tr>\n",
       "    <tr>\n",
       "      <th>3</th>\n",
       "      <td>7</td>\n",
       "      <td>117</td>\n",
       "      <td>83</td>\n",
       "      <td>95.377016</td>\n",
       "      <td>0.901935</td>\n",
       "      <td>0.859849</td>\n",
       "      <td>P4</td>\n",
       "      <td>4</td>\n",
       "    </tr>\n",
       "    <tr>\n",
       "      <th>4</th>\n",
       "      <td>8</td>\n",
       "      <td>74</td>\n",
       "      <td>52</td>\n",
       "      <td>61.500000</td>\n",
       "      <td>0.874400</td>\n",
       "      <td>0.789769</td>\n",
       "      <td>P5</td>\n",
       "      <td>5</td>\n",
       "    </tr>\n",
       "  </tbody>\n",
       "</table>\n",
       "</div>"
      ],
      "text/plain": [
       "   Case No  Word Count  Unique Word Count       MTLD     MATTR      HD-D  \\\n",
       "0        1         130                 74  52.430404  0.840000  0.748144   \n",
       "1        3         108                 65  35.334320  0.811905  0.764934   \n",
       "2        6         270                135  63.787600  0.886341  0.805660   \n",
       "3        7         117                 83  95.377016  0.901935  0.859849   \n",
       "4        8          74                 52  61.500000  0.874400  0.789769   \n",
       "\n",
       "  Participant  ParticipantNo  \n",
       "0          P1              1  \n",
       "1          P2              2  \n",
       "2          P3              3  \n",
       "3          P4              4  \n",
       "4          P5              5  "
      ]
     },
     "execution_count": 16,
     "metadata": {},
     "output_type": "execute_result"
    }
   ],
   "source": [
    "# Insert Participant and ParticipantNo column\n",
    "df['Participant'] = ['P' + str(i) for i in range(1, len(df) + 1)]\n",
    "df['ParticipantNo'] = [i for i in range(1, len(df) + 1)]\n",
    "df.head()"
   ]
  },
  {
   "cell_type": "code",
   "execution_count": 17,
   "metadata": {},
   "outputs": [],
   "source": [
    "df1=df[[ 'Word Count', 'Unique Word Count', 'MTLD', 'MATTR', 'HD-D']]"
   ]
  },
  {
   "cell_type": "code",
   "execution_count": 18,
   "metadata": {},
   "outputs": [
    {
     "name": "stdout",
     "output_type": "stream",
     "text": [
      "   Word Count  Unique Word Count       MTLD     MATTR      HD-D\n",
      "0         130                 74  52.430404  0.840000  0.748144\n",
      "1         108                 65  35.334320  0.811905  0.764934\n",
      "2         270                135  63.787600  0.886341  0.805660\n",
      "3         117                 83  95.377016  0.901935  0.859849\n",
      "4          74                 52  61.500000  0.874400  0.789769\n"
     ]
    }
   ],
   "source": [
    "print(df1.head())"
   ]
  },
  {
   "cell_type": "code",
   "execution_count": 19,
   "metadata": {},
   "outputs": [
    {
     "data": {
      "image/png": "[encoded data removed]",
      "text/plain": [
       "<Figure size 1000x600 with 1 Axes>"
      ]
     },
     "metadata": {},
     "output_type": "display_data"
    }
   ],
   "source": [
    "# Reshape the DataFrame to a long format\n",
    "df_melted = pd.melt(df, id_vars='ParticipantNo', value_vars=['Word Count', 'Unique Word Count'],\n",
    "                    var_name='Count Type', value_name='Count')\n",
    "\n",
    "# Create the bar plot with bars side by side\n",
    "plt.figure(figsize=(10, 6))\n",
    "sns.barplot(x='ParticipantNo', y='Count', hue='Count Type', data=df_melted, palette=['skyblue', 'lightgreen'])\n",
    "\n",
    "# Set plot labels and title\n",
    "plt.ylabel('Count')\n",
    "plt.title('Word Count vs Unique Word Count')\n",
    "\n",
    "# Show the plot\n",
    "plt.show()"
   ]
  },
  {
   "cell_type": "code",
   "execution_count": 20,
   "metadata": {},
   "outputs": [
    {
     "name": "stderr",
     "output_type": "stream",
     "text": [
      "/Users/lahiruwijayapala/opt/anaconda3/envs/test2/lib/python3.11/site-packages/seaborn/_oldcore.py:1119: FutureWarning: use_inf_as_na option is deprecated and will be removed in a future version. Convert inf values to NaN before operating instead.\n",
      "  with pd.option_context('mode.use_inf_as_na', True):\n",
      "/Users/lahiruwijayapala/opt/anaconda3/envs/test2/lib/python3.11/site-packages/seaborn/_oldcore.py:1119: FutureWarning: use_inf_as_na option is deprecated and will be removed in a future version. Convert inf values to NaN before operating instead.\n",
      "  with pd.option_context('mode.use_inf_as_na', True):\n",
      "/Users/lahiruwijayapala/opt/anaconda3/envs/test2/lib/python3.11/site-packages/seaborn/_oldcore.py:1119: FutureWarning: use_inf_as_na option is deprecated and will be removed in a future version. Convert inf values to NaN before operating instead.\n",
      "  with pd.option_context('mode.use_inf_as_na', True):\n",
      "/Users/lahiruwijayapala/opt/anaconda3/envs/test2/lib/python3.11/site-packages/seaborn/_oldcore.py:1119: FutureWarning: use_inf_as_na option is deprecated and will be removed in a future version. Convert inf values to NaN before operating instead.\n",
      "  with pd.option_context('mode.use_inf_as_na', True):\n"
     ]
    },
    {
     "data": {
      "image/png": "[encoded data removed]",
      "text/plain": [
       "<Figure size 1000x600 with 1 Axes>"
      ]
     },
     "metadata": {},
     "output_type": "display_data"
    }
   ],
   "source": [
    "# Create a line plot to observe trends for MATTR and HD-D across Case Nos\n",
    "plt.figure(figsize=(10, 6))\n",
    "sns.lineplot(x='ParticipantNo', y='MATTR', data=df, marker='o', label='MATTR')\n",
    "sns.lineplot(x='ParticipantNo', y='HD-D', data=df, marker='o', label='HD-D')\n",
    "plt.ylabel('Score')\n",
    "plt.title('MATTR and HD-D across Cases')\n",
    "plt.legend()\n",
    "plt.show()"
   ]
  },
  {
   "cell_type": "code",
   "execution_count": 21,
   "metadata": {},
   "outputs": [
    {
     "name": "stderr",
     "output_type": "stream",
     "text": [
      "/Users/lahiruwijayapala/opt/anaconda3/envs/test2/lib/python3.11/site-packages/seaborn/_oldcore.py:1119: FutureWarning: use_inf_as_na option is deprecated and will be removed in a future version. Convert inf values to NaN before operating instead.\n",
      "  with pd.option_context('mode.use_inf_as_na', True):\n",
      "/Users/lahiruwijayapala/opt/anaconda3/envs/test2/lib/python3.11/site-packages/seaborn/_oldcore.py:1119: FutureWarning: use_inf_as_na option is deprecated and will be removed in a future version. Convert inf values to NaN before operating instead.\n",
      "  with pd.option_context('mode.use_inf_as_na', True):\n"
     ]
    },
    {
     "data": {
      "image/png": "[encoded data removed]",
      "text/plain": [
       "<Figure size 1000x600 with 1 Axes>"
      ]
     },
     "metadata": {},
     "output_type": "display_data"
    }
   ],
   "source": [
    "# Create a line plot to observe trends for MATTR and HD-D across Case Nos\n",
    "plt.figure(figsize=(10, 6))\n",
    "sns.lineplot(x='ParticipantNo', y='MTLD', data=df, marker='o', label='MTLD')\n",
    "plt.ylabel('Score')\n",
    "plt.title('MTLD across Cases')\n",
    "plt.legend()\n",
    "plt.show()"
   ]
  },
  {
   "cell_type": "code",
   "execution_count": null,
   "metadata": {},
   "outputs": [],
   "source": []
  },
  {
   "cell_type": "markdown",
   "metadata": {},
   "source": [
    "# Readability"
   ]
  },
  {
   "cell_type": "code",
   "execution_count": null,
   "metadata": {},
   "outputs": [
    {
     "data": {
      "text/html": [
       "<div>\n",
       "<style scoped>\n",
       "    .dataframe tbody tr th:only-of-type {\n",
       "        vertical-align: middle;\n",
       "    }\n",
       "\n",
       "    .dataframe tbody tr th {\n",
       "        vertical-align: top;\n",
       "    }\n",
       "\n",
       "    .dataframe thead th {\n",
       "        text-align: right;\n",
       "    }\n",
       "</style>\n",
       "<table border=\"1\" class=\"dataframe\">\n",
       "  <thead>\n",
       "    <tr style=\"text-align: right;\">\n",
       "      <th></th>\n",
       "      <th>CaseNo</th>\n",
       "      <th>Prompt_count</th>\n",
       "      <th>Word_Count</th>\n",
       "      <th>unique_word_count</th>\n",
       "      <th>mtld</th>\n",
       "      <th>mattr</th>\n",
       "      <th>HD-D</th>\n",
       "      <th>Prompt_readability</th>\n",
       "      <th>Response_readability</th>\n",
       "    </tr>\n",
       "  </thead>\n",
       "  <tbody>\n",
       "    <tr>\n",
       "      <th>0</th>\n",
       "      <td>1</td>\n",
       "      <td>11</td>\n",
       "      <td>130</td>\n",
       "      <td>74</td>\n",
       "      <td>52.430404</td>\n",
       "      <td>0.840000</td>\n",
       "      <td>0.748144</td>\n",
       "      <td>67.76</td>\n",
       "      <td>54.12</td>\n",
       "    </tr>\n",
       "    <tr>\n",
       "      <th>1</th>\n",
       "      <td>3</td>\n",
       "      <td>9</td>\n",
       "      <td>108</td>\n",
       "      <td>65</td>\n",
       "      <td>35.334320</td>\n",
       "      <td>0.811905</td>\n",
       "      <td>0.764934</td>\n",
       "      <td>76.11</td>\n",
       "      <td>44.44</td>\n",
       "    </tr>\n",
       "    <tr>\n",
       "      <th>2</th>\n",
       "      <td>6</td>\n",
       "      <td>10</td>\n",
       "      <td>270</td>\n",
       "      <td>135</td>\n",
       "      <td>63.787600</td>\n",
       "      <td>0.886341</td>\n",
       "      <td>0.805660</td>\n",
       "      <td>87.11</td>\n",
       "      <td>59.19</td>\n",
       "    </tr>\n",
       "    <tr>\n",
       "      <th>3</th>\n",
       "      <td>7</td>\n",
       "      <td>6</td>\n",
       "      <td>117</td>\n",
       "      <td>83</td>\n",
       "      <td>95.377016</td>\n",
       "      <td>0.901935</td>\n",
       "      <td>0.859849</td>\n",
       "      <td>83.25</td>\n",
       "      <td>62.88</td>\n",
       "    </tr>\n",
       "    <tr>\n",
       "      <th>4</th>\n",
       "      <td>8</td>\n",
       "      <td>7</td>\n",
       "      <td>74</td>\n",
       "      <td>52</td>\n",
       "      <td>61.500000</td>\n",
       "      <td>0.874400</td>\n",
       "      <td>0.789769</td>\n",
       "      <td>96.89</td>\n",
       "      <td>66.84</td>\n",
       "    </tr>\n",
       "  </tbody>\n",
       "</table>\n",
       "</div>"
      ],
      "text/plain": [
       "   CaseNo  Prompt_count  Word_Count  unique_word_count       mtld     mattr  \\\n",
       "0       1            11         130                 74  52.430404  0.840000   \n",
       "1       3             9         108                 65  35.334320  0.811905   \n",
       "2       6            10         270                135  63.787600  0.886341   \n",
       "3       7             6         117                 83  95.377016  0.901935   \n",
       "4       8             7          74                 52  61.500000  0.874400   \n",
       "\n",
       "       HD-D  Prompt_readability  Response_readability  \n",
       "0  0.748144               67.76                 54.12  \n",
       "1  0.764934               76.11                 44.44  \n",
       "2  0.805660               87.11                 59.19  \n",
       "3  0.859849               83.25                 62.88  \n",
       "4  0.789769               96.89                 66.84  "
      ]
     },
     "execution_count": 22,
     "metadata": {},
     "output_type": "execute_result"
    }
   ],
   "source": [
    "\n",
    "scores = []\n",
    "\n",
    "for i in case_numbers:\n",
    "    file_path = 'Research Data/Case'+str(i)+'.txt'\n",
    "    \n",
    "    pairs = parse_prompt_response(file_path)\n",
    "    df=pd.DataFrame(pairs)\n",
    "    all_prompts = all_prompts = \"\\n\".join(f'\"{prompt if prompt.endswith((\".\", \"?\")) else prompt + \".\"}\"' for prompt in df['prompt'])\n",
    "    all_responses = \"\\n\".join(f'\"{response}\"' for response in df['response'])\n",
    "    \n",
    "    scores.append({'CaseNo':i,'Prompt_count':len(df),'Word_Count':word_count(all_prompts),'unique_word_count':unique_word_count(all_prompts),'mtld':mtld(all_prompts),'mattr':mattr(all_prompts),'HD-D':hd_d(all_prompts),'Prompt_readability':textstat.flesch_reading_ease(all_prompts),'Response_readability':textstat.flesch_reading_ease(all_responses)})\n",
    "    \n",
    "    \n",
    "df = pd.DataFrame(scores)\n",
    "df.head()"
   ]
  },
  {
   "cell_type": "markdown",
   "metadata": {},
   "source": [
    "\n",
    "# Visualization"
   ]
  },
  {
   "cell_type": "code",
   "execution_count": 23,
   "metadata": {},
   "outputs": [],
   "source": [
    "df2=df.copy()\n",
    "\n",
    "# Insert Participant and ParticipantNo column\n",
    "df2['Participant'] = ['P' + str(i) for i in range(1, len(df) + 1)]\n",
    "df2['ParticipantNo'] = [i for i in range(1, len(df) + 1)]"
   ]
  },
  {
   "cell_type": "code",
   "execution_count": 24,
   "metadata": {},
   "outputs": [
    {
     "data": {
      "text/html": [
       "<div>\n",
       "<style scoped>\n",
       "    .dataframe tbody tr th:only-of-type {\n",
       "        vertical-align: middle;\n",
       "    }\n",
       "\n",
       "    .dataframe tbody tr th {\n",
       "        vertical-align: top;\n",
       "    }\n",
       "\n",
       "    .dataframe thead th {\n",
       "        text-align: right;\n",
       "    }\n",
       "</style>\n",
       "<table border=\"1\" class=\"dataframe\">\n",
       "  <thead>\n",
       "    <tr style=\"text-align: right;\">\n",
       "      <th></th>\n",
       "      <th>Participant</th>\n",
       "      <th>ParticipantNo</th>\n",
       "      <th>Prompt_count</th>\n",
       "      <th>Word_Count</th>\n",
       "      <th>unique_word_count</th>\n",
       "      <th>mtld</th>\n",
       "      <th>mattr</th>\n",
       "      <th>HD-D</th>\n",
       "      <th>Prompt_readability</th>\n",
       "      <th>Response_readability</th>\n",
       "    </tr>\n",
       "  </thead>\n",
       "  <tbody>\n",
       "    <tr>\n",
       "      <th>0</th>\n",
       "      <td>P1</td>\n",
       "      <td>1</td>\n",
       "      <td>11</td>\n",
       "      <td>130</td>\n",
       "      <td>74</td>\n",
       "      <td>52.430404</td>\n",
       "      <td>0.840000</td>\n",
       "      <td>0.748144</td>\n",
       "      <td>67.76</td>\n",
       "      <td>54.12</td>\n",
       "    </tr>\n",
       "    <tr>\n",
       "      <th>1</th>\n",
       "      <td>P2</td>\n",
       "      <td>2</td>\n",
       "      <td>9</td>\n",
       "      <td>108</td>\n",
       "      <td>65</td>\n",
       "      <td>35.334320</td>\n",
       "      <td>0.811905</td>\n",
       "      <td>0.764934</td>\n",
       "      <td>76.11</td>\n",
       "      <td>44.44</td>\n",
       "    </tr>\n",
       "    <tr>\n",
       "      <th>2</th>\n",
       "      <td>P3</td>\n",
       "      <td>3</td>\n",
       "      <td>10</td>\n",
       "      <td>270</td>\n",
       "      <td>135</td>\n",
       "      <td>63.787600</td>\n",
       "      <td>0.886341</td>\n",
       "      <td>0.805660</td>\n",
       "      <td>87.11</td>\n",
       "      <td>59.19</td>\n",
       "    </tr>\n",
       "    <tr>\n",
       "      <th>3</th>\n",
       "      <td>P4</td>\n",
       "      <td>4</td>\n",
       "      <td>6</td>\n",
       "      <td>117</td>\n",
       "      <td>83</td>\n",
       "      <td>95.377016</td>\n",
       "      <td>0.901935</td>\n",
       "      <td>0.859849</td>\n",
       "      <td>83.25</td>\n",
       "      <td>62.88</td>\n",
       "    </tr>\n",
       "    <tr>\n",
       "      <th>4</th>\n",
       "      <td>P5</td>\n",
       "      <td>5</td>\n",
       "      <td>7</td>\n",
       "      <td>74</td>\n",
       "      <td>52</td>\n",
       "      <td>61.500000</td>\n",
       "      <td>0.874400</td>\n",
       "      <td>0.789769</td>\n",
       "      <td>96.89</td>\n",
       "      <td>66.84</td>\n",
       "    </tr>\n",
       "  </tbody>\n",
       "</table>\n",
       "</div>"
      ],
      "text/plain": [
       "  Participant  ParticipantNo  Prompt_count  Word_Count  unique_word_count  \\\n",
       "0          P1              1            11         130                 74   \n",
       "1          P2              2             9         108                 65   \n",
       "2          P3              3            10         270                135   \n",
       "3          P4              4             6         117                 83   \n",
       "4          P5              5             7          74                 52   \n",
       "\n",
       "        mtld     mattr      HD-D  Prompt_readability  Response_readability  \n",
       "0  52.430404  0.840000  0.748144               67.76                 54.12  \n",
       "1  35.334320  0.811905  0.764934               76.11                 44.44  \n",
       "2  63.787600  0.886341  0.805660               87.11                 59.19  \n",
       "3  95.377016  0.901935  0.859849               83.25                 62.88  \n",
       "4  61.500000  0.874400  0.789769               96.89                 66.84  "
      ]
     },
     "execution_count": 24,
     "metadata": {},
     "output_type": "execute_result"
    }
   ],
   "source": [
    "df2=df2[['Participant', 'ParticipantNo', 'Prompt_count', 'Word_Count', 'unique_word_count', 'mtld',\n",
    "       'mattr', 'HD-D', 'Prompt_readability', 'Response_readability']]\n",
    "\n",
    "df2.head()"
   ]
  },
  {
   "cell_type": "code",
   "execution_count": 25,
   "metadata": {},
   "outputs": [],
   "source": [
    "df2.to_excel('df2.xlsx')"
   ]
  },
  {
   "cell_type": "code",
   "execution_count": 26,
   "metadata": {},
   "outputs": [
    {
     "data": {
      "text/plain": [
       "36"
      ]
     },
     "execution_count": 26,
     "metadata": {},
     "output_type": "execute_result"
    }
   ],
   "source": [
    "df2['Prompt_count'].max()"
   ]
  },
  {
   "cell_type": "code",
   "execution_count": 27,
   "metadata": {},
   "outputs": [
    {
     "name": "stderr",
     "output_type": "stream",
     "text": [
      "/Users/lahiruwijayapala/opt/anaconda3/envs/test2/lib/python3.11/site-packages/seaborn/_oldcore.py:1119: FutureWarning: use_inf_as_na option is deprecated and will be removed in a future version. Convert inf values to NaN before operating instead.\n",
      "  with pd.option_context('mode.use_inf_as_na', True):\n"
     ]
    },
    {
     "data": {
      "image/png": "[encoded data removed]",
      "text/plain": [
       "<Figure size 600x400 with 1 Axes>"
      ]
     },
     "metadata": {},
     "output_type": "display_data"
    }
   ],
   "source": [
    "import seaborn as sns\n",
    "import matplotlib.pyplot as plt\n",
    "\n",
    "# Set the style for the plot\n",
    "sns.set(style=\"whitegrid\")\n",
    "\n",
    "# Plot histogram and KDE for the distribution of Word_Count\n",
    "plt.figure(figsize=(6, 4))\n",
    "\n",
    "# Histogram with KDE\n",
    "sns.histplot(df2['unique_word_count'], kde=True, bins=8, color='skyblue')\n",
    "\n",
    "# Set labels and title\n",
    "plt.xlabel('Prompt Count')\n",
    "plt.ylabel('Frequency')\n",
    "plt.title('Distribution of Prompt Count')\n",
    "plt.show()\n"
   ]
  },
  {
   "cell_type": "code",
   "execution_count": 28,
   "metadata": {},
   "outputs": [],
   "source": [
    "from sklearn.preprocessing import StandardScaler\n",
    "\n",
    "# Initialize the StandardScaler\n",
    "scaler = StandardScaler()\n",
    "\n",
    "# Standardize the columns 'mtld', 'mattr', 'HD-D' and create new columns for z-scores\n",
    "df[['mtld_z', 'mattr_z', 'HD-D_z']] = scaler.fit_transform(df[['mtld', 'mattr', 'HD-D']])\n",
    "\n",
    "# Calculate the composite index by taking the mean of the z-scores\n",
    "df['lexical_diversity_index'] = df[['mtld_z', 'mattr_z', 'HD-D_z']].mean(axis=1)\n"
   ]
  },
  {
   "cell_type": "code",
   "execution_count": 29,
   "metadata": {},
   "outputs": [
    {
     "data": {
      "text/html": [
       "<div>\n",
       "<style scoped>\n",
       "    .dataframe tbody tr th:only-of-type {\n",
       "        vertical-align: middle;\n",
       "    }\n",
       "\n",
       "    .dataframe tbody tr th {\n",
       "        vertical-align: top;\n",
       "    }\n",
       "\n",
       "    .dataframe thead th {\n",
       "        text-align: right;\n",
       "    }\n",
       "</style>\n",
       "<table border=\"1\" class=\"dataframe\">\n",
       "  <thead>\n",
       "    <tr style=\"text-align: right;\">\n",
       "      <th></th>\n",
       "      <th>CaseNo</th>\n",
       "      <th>Prompt_count</th>\n",
       "      <th>Word_Count</th>\n",
       "      <th>unique_word_count</th>\n",
       "      <th>mtld</th>\n",
       "      <th>mattr</th>\n",
       "      <th>HD-D</th>\n",
       "      <th>Prompt_readability</th>\n",
       "      <th>Response_readability</th>\n",
       "      <th>mtld_z</th>\n",
       "      <th>mattr_z</th>\n",
       "      <th>HD-D_z</th>\n",
       "      <th>lexical_diversity_index</th>\n",
       "    </tr>\n",
       "  </thead>\n",
       "  <tbody>\n",
       "    <tr>\n",
       "      <th>0</th>\n",
       "      <td>1</td>\n",
       "      <td>11</td>\n",
       "      <td>130</td>\n",
       "      <td>74</td>\n",
       "      <td>52.430404</td>\n",
       "      <td>0.840000</td>\n",
       "      <td>0.748144</td>\n",
       "      <td>67.76</td>\n",
       "      <td>54.12</td>\n",
       "      <td>-0.740141</td>\n",
       "      <td>-0.786525</td>\n",
       "      <td>-0.988934</td>\n",
       "      <td>-0.838533</td>\n",
       "    </tr>\n",
       "    <tr>\n",
       "      <th>1</th>\n",
       "      <td>3</td>\n",
       "      <td>9</td>\n",
       "      <td>108</td>\n",
       "      <td>65</td>\n",
       "      <td>35.334320</td>\n",
       "      <td>0.811905</td>\n",
       "      <td>0.764934</td>\n",
       "      <td>76.11</td>\n",
       "      <td>44.44</td>\n",
       "      <td>-1.544864</td>\n",
       "      <td>-1.626284</td>\n",
       "      <td>-0.665821</td>\n",
       "      <td>-1.278990</td>\n",
       "    </tr>\n",
       "    <tr>\n",
       "      <th>2</th>\n",
       "      <td>6</td>\n",
       "      <td>10</td>\n",
       "      <td>270</td>\n",
       "      <td>135</td>\n",
       "      <td>63.787600</td>\n",
       "      <td>0.886341</td>\n",
       "      <td>0.805660</td>\n",
       "      <td>87.11</td>\n",
       "      <td>59.19</td>\n",
       "      <td>-0.205551</td>\n",
       "      <td>0.598610</td>\n",
       "      <td>0.117918</td>\n",
       "      <td>0.170325</td>\n",
       "    </tr>\n",
       "    <tr>\n",
       "      <th>3</th>\n",
       "      <td>7</td>\n",
       "      <td>6</td>\n",
       "      <td>117</td>\n",
       "      <td>83</td>\n",
       "      <td>95.377016</td>\n",
       "      <td>0.901935</td>\n",
       "      <td>0.859849</td>\n",
       "      <td>83.25</td>\n",
       "      <td>62.88</td>\n",
       "      <td>1.281382</td>\n",
       "      <td>1.064711</td>\n",
       "      <td>1.160747</td>\n",
       "      <td>1.168947</td>\n",
       "    </tr>\n",
       "    <tr>\n",
       "      <th>4</th>\n",
       "      <td>8</td>\n",
       "      <td>7</td>\n",
       "      <td>74</td>\n",
       "      <td>52</td>\n",
       "      <td>61.500000</td>\n",
       "      <td>0.874400</td>\n",
       "      <td>0.789769</td>\n",
       "      <td>96.89</td>\n",
       "      <td>66.84</td>\n",
       "      <td>-0.313230</td>\n",
       "      <td>0.241682</td>\n",
       "      <td>-0.187883</td>\n",
       "      <td>-0.086477</td>\n",
       "    </tr>\n",
       "  </tbody>\n",
       "</table>\n",
       "</div>"
      ],
      "text/plain": [
       "   CaseNo  Prompt_count  Word_Count  unique_word_count       mtld     mattr  \\\n",
       "0       1            11         130                 74  52.430404  0.840000   \n",
       "1       3             9         108                 65  35.334320  0.811905   \n",
       "2       6            10         270                135  63.787600  0.886341   \n",
       "3       7             6         117                 83  95.377016  0.901935   \n",
       "4       8             7          74                 52  61.500000  0.874400   \n",
       "\n",
       "       HD-D  Prompt_readability  Response_readability    mtld_z   mattr_z  \\\n",
       "0  0.748144               67.76                 54.12 -0.740141 -0.786525   \n",
       "1  0.764934               76.11                 44.44 -1.544864 -1.626284   \n",
       "2  0.805660               87.11                 59.19 -0.205551  0.598610   \n",
       "3  0.859849               83.25                 62.88  1.281382  1.064711   \n",
       "4  0.789769               96.89                 66.84 -0.313230  0.241682   \n",
       "\n",
       "     HD-D_z  lexical_diversity_index  \n",
       "0 -0.988934                -0.838533  \n",
       "1 -0.665821                -1.278990  \n",
       "2  0.117918                 0.170325  \n",
       "3  1.160747                 1.168947  \n",
       "4 -0.187883                -0.086477  "
      ]
     },
     "execution_count": 29,
     "metadata": {},
     "output_type": "execute_result"
    }
   ],
   "source": [
    "df.head()"
   ]
  },
  {
   "cell_type": "code",
   "execution_count": 30,
   "metadata": {},
   "outputs": [],
   "source": [
    "df_merge = df.drop(['mtld', 'mattr', 'HD-D','mtld_z', 'mattr_z', 'HD-D_z'], axis=1)"
   ]
  },
  {
   "cell_type": "code",
   "execution_count": 31,
   "metadata": {},
   "outputs": [
    {
     "data": {
      "text/html": [
       "<div>\n",
       "<style scoped>\n",
       "    .dataframe tbody tr th:only-of-type {\n",
       "        vertical-align: middle;\n",
       "    }\n",
       "\n",
       "    .dataframe tbody tr th {\n",
       "        vertical-align: top;\n",
       "    }\n",
       "\n",
       "    .dataframe thead th {\n",
       "        text-align: right;\n",
       "    }\n",
       "</style>\n",
       "<table border=\"1\" class=\"dataframe\">\n",
       "  <thead>\n",
       "    <tr style=\"text-align: right;\">\n",
       "      <th></th>\n",
       "      <th>CaseNo</th>\n",
       "      <th>Prompt_count</th>\n",
       "      <th>Word_Count</th>\n",
       "      <th>unique_word_count</th>\n",
       "      <th>Prompt_readability</th>\n",
       "      <th>Response_readability</th>\n",
       "      <th>lexical_diversity_index</th>\n",
       "    </tr>\n",
       "  </thead>\n",
       "  <tbody>\n",
       "    <tr>\n",
       "      <th>count</th>\n",
       "      <td>31.000000</td>\n",
       "      <td>31.000000</td>\n",
       "      <td>31.000000</td>\n",
       "      <td>31.000000</td>\n",
       "      <td>31.000000</td>\n",
       "      <td>31.000000</td>\n",
       "      <td>3.100000e+01</td>\n",
       "    </tr>\n",
       "    <tr>\n",
       "      <th>mean</th>\n",
       "      <td>20.451613</td>\n",
       "      <td>11.161290</td>\n",
       "      <td>168.000000</td>\n",
       "      <td>92.193548</td>\n",
       "      <td>77.630323</td>\n",
       "      <td>58.665806</td>\n",
       "      <td>2.250888e-15</td>\n",
       "    </tr>\n",
       "    <tr>\n",
       "      <th>std</th>\n",
       "      <td>11.712781</td>\n",
       "      <td>5.598195</td>\n",
       "      <td>93.650414</td>\n",
       "      <td>40.481617</td>\n",
       "      <td>9.821840</td>\n",
       "      <td>5.596946</td>\n",
       "      <td>9.461182e-01</td>\n",
       "    </tr>\n",
       "    <tr>\n",
       "      <th>min</th>\n",
       "      <td>1.000000</td>\n",
       "      <td>6.000000</td>\n",
       "      <td>56.000000</td>\n",
       "      <td>39.000000</td>\n",
       "      <td>55.300000</td>\n",
       "      <td>44.440000</td>\n",
       "      <td>-2.018932e+00</td>\n",
       "    </tr>\n",
       "    <tr>\n",
       "      <th>25%</th>\n",
       "      <td>11.500000</td>\n",
       "      <td>8.000000</td>\n",
       "      <td>106.500000</td>\n",
       "      <td>62.500000</td>\n",
       "      <td>72.205000</td>\n",
       "      <td>55.135000</td>\n",
       "      <td>-7.697797e-01</td>\n",
       "    </tr>\n",
       "    <tr>\n",
       "      <th>50%</th>\n",
       "      <td>19.000000</td>\n",
       "      <td>10.000000</td>\n",
       "      <td>140.000000</td>\n",
       "      <td>80.000000</td>\n",
       "      <td>77.840000</td>\n",
       "      <td>57.870000</td>\n",
       "      <td>1.703255e-01</td>\n",
       "    </tr>\n",
       "    <tr>\n",
       "      <th>75%</th>\n",
       "      <td>28.500000</td>\n",
       "      <td>13.000000</td>\n",
       "      <td>214.000000</td>\n",
       "      <td>112.000000</td>\n",
       "      <td>84.675000</td>\n",
       "      <td>62.830000</td>\n",
       "      <td>6.835323e-01</td>\n",
       "    </tr>\n",
       "    <tr>\n",
       "      <th>max</th>\n",
       "      <td>42.000000</td>\n",
       "      <td>36.000000</td>\n",
       "      <td>459.000000</td>\n",
       "      <td>191.000000</td>\n",
       "      <td>96.890000</td>\n",
       "      <td>68.870000</td>\n",
       "      <td>1.457208e+00</td>\n",
       "    </tr>\n",
       "  </tbody>\n",
       "</table>\n",
       "</div>"
      ],
      "text/plain": [
       "          CaseNo  Prompt_count  Word_Count  unique_word_count  \\\n",
       "count  31.000000     31.000000   31.000000          31.000000   \n",
       "mean   20.451613     11.161290  168.000000          92.193548   \n",
       "std    11.712781      5.598195   93.650414          40.481617   \n",
       "min     1.000000      6.000000   56.000000          39.000000   \n",
       "25%    11.500000      8.000000  106.500000          62.500000   \n",
       "50%    19.000000     10.000000  140.000000          80.000000   \n",
       "75%    28.500000     13.000000  214.000000         112.000000   \n",
       "max    42.000000     36.000000  459.000000         191.000000   \n",
       "\n",
       "       Prompt_readability  Response_readability  lexical_diversity_index  \n",
       "count           31.000000             31.000000             3.100000e+01  \n",
       "mean            77.630323             58.665806             2.250888e-15  \n",
       "std              9.821840              5.596946             9.461182e-01  \n",
       "min             55.300000             44.440000            -2.018932e+00  \n",
       "25%             72.205000             55.135000            -7.697797e-01  \n",
       "50%             77.840000             57.870000             1.703255e-01  \n",
       "75%             84.675000             62.830000             6.835323e-01  \n",
       "max             96.890000             68.870000             1.457208e+00  "
      ]
     },
     "execution_count": 31,
     "metadata": {},
     "output_type": "execute_result"
    }
   ],
   "source": [
    "df_merge.describe()"
   ]
  },
  {
   "cell_type": "code",
   "execution_count": 32,
   "metadata": {},
   "outputs": [],
   "source": [
    "df_merge.to_csv('LexicalAnalysis.csv')"
   ]
  },
  {
   "cell_type": "code",
   "execution_count": 33,
   "metadata": {},
   "outputs": [
    {
     "data": {
      "text/html": [
       "<div>\n",
       "<style scoped>\n",
       "    .dataframe tbody tr th:only-of-type {\n",
       "        vertical-align: middle;\n",
       "    }\n",
       "\n",
       "    .dataframe tbody tr th {\n",
       "        vertical-align: top;\n",
       "    }\n",
       "\n",
       "    .dataframe thead th {\n",
       "        text-align: right;\n",
       "    }\n",
       "</style>\n",
       "<table border=\"1\" class=\"dataframe\">\n",
       "  <thead>\n",
       "    <tr style=\"text-align: right;\">\n",
       "      <th></th>\n",
       "      <th>CaseNo</th>\n",
       "      <th>Prompt_count</th>\n",
       "      <th>Word_Count</th>\n",
       "      <th>unique_word_count</th>\n",
       "      <th>Prompt_readability</th>\n",
       "      <th>Response_readability</th>\n",
       "      <th>lexical_diversity_index</th>\n",
       "    </tr>\n",
       "  </thead>\n",
       "  <tbody>\n",
       "    <tr>\n",
       "      <th>6</th>\n",
       "      <td>10</td>\n",
       "      <td>16</td>\n",
       "      <td>300</td>\n",
       "      <td>138</td>\n",
       "      <td>77.87</td>\n",
       "      <td>53.51</td>\n",
       "      <td>0.090799</td>\n",
       "    </tr>\n",
       "  </tbody>\n",
       "</table>\n",
       "</div>"
      ],
      "text/plain": [
       "   CaseNo  Prompt_count  Word_Count  unique_word_count  Prompt_readability  \\\n",
       "6      10            16         300                138               77.87   \n",
       "\n",
       "   Response_readability  lexical_diversity_index  \n",
       "6                 53.51                 0.090799  "
      ]
     },
     "execution_count": 33,
     "metadata": {},
     "output_type": "execute_result"
    }
   ],
   "source": [
    "df_merge[df_merge['CaseNo']==10]"
   ]
  }
 ],
 "metadata": {
  "kernelspec": {
   "display_name": "test2",
   "language": "python",
   "name": "python3"
  },
  "language_info": {
   "codemirror_mode": {
    "name": "ipython",
    "version": 3
   },
   "file_extension": ".py",
   "mimetype": "text/x-python",
   "name": "python",
   "nbconvert_exporter": "python",
   "pygments_lexer": "ipython3",
   "version": "3.11.5"
  }
 },
 "nbformat": 4,
 "nbformat_minor": 2
}
